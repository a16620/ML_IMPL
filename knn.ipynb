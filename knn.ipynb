{
 "cells": [
  {
   "cell_type": "code",
   "execution_count": 90,
   "metadata": {},
   "outputs": [],
   "source": [
    "import pandas as pd\n",
    "import numpy as np\n",
    "\n",
    "data = pd.read_csv('iris.csv')\n",
    "\n",
    "test_idx = np.random.choice(data.shape[0], int(data.shape[0]*0.9))\n",
    "data_org = data.drop(test_idx)\n",
    "data_test = data.iloc[test_idx]"
   ]
  },
  {
   "cell_type": "code",
   "execution_count": 78,
   "metadata": {},
   "outputs": [],
   "source": [
    "import numpy as np\n",
    "from functools import partial\n",
    "\n",
    "def dist_Euclidean(a: np.ndarray, b: np.ndarray):\n",
    "    return ((a-b)**2).sum()\n",
    "\n",
    "def dist_Manhattan(a: np.ndarray, b: np.ndarray):\n",
    "    return np.abs(a-b).sum()\n",
    "\n",
    "def knn(data_population: pd.DataFrame, data_sample: pd.DataFrame, target_column, n, attr_columns=None, dist_func=dist_Euclidean):\n",
    "    if attr_columns is None:\n",
    "        attr_columns = data_sample.columns\n",
    "        if target_column in attr_columns:\n",
    "            attr_columns = attr_columns.drop(target_column)\n",
    "    \n",
    "    data_sample = data_sample[attr_columns]\n",
    "    data_attrs = data_population[attr_columns]\n",
    "    data_labels = data_population[target_column]\n",
    "\n",
    "    def single_classify(sample):\n",
    "        dist = data_attrs.apply(partial(dist_func, sample.reshape((-1,))), axis=1, raw=True)\n",
    "        return pd.concat([dist.sort_values(), data_labels], axis=1).head(n)[target_column].value_counts(sort=True).index[0]\n",
    "    return data_sample.apply(single_classify, raw=True, axis=1)\n",
    "\n"
   ]
  },
  {
   "cell_type": "code",
   "execution_count": 92,
   "metadata": {},
   "outputs": [
    {
     "data": {
      "text/plain": [
       "0.96"
      ]
     },
     "execution_count": 92,
     "metadata": {},
     "output_type": "execute_result"
    }
   ],
   "source": [
    "pred = knn(\n",
    "    data_org, data_test, 'Species', 10,\n",
    "    attr_columns=['SepalLengthCm', 'SepalWidthCm', 'PetalLengthCm', 'PetalWidthCm'],\n",
    "    dist_func=dist_Manhattan\n",
    "    )\n",
    "(pred == data_test['Species']).to_numpy().mean().round(2)"
   ]
  }
 ],
 "metadata": {
  "kernelspec": {
   "display_name": "base",
   "language": "python",
   "name": "python3"
  },
  "language_info": {
   "codemirror_mode": {
    "name": "ipython",
    "version": 3
   },
   "file_extension": ".py",
   "mimetype": "text/x-python",
   "name": "python",
   "nbconvert_exporter": "python",
   "pygments_lexer": "ipython3",
   "version": "3.9.13"
  },
  "orig_nbformat": 4
 },
 "nbformat": 4,
 "nbformat_minor": 2
}
