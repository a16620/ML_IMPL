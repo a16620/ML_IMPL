{
 "cells": [
  {
   "cell_type": "code",
   "execution_count": 44,
   "metadata": {},
   "outputs": [],
   "source": [
    "import numpy as np\n",
    "from collections import namedtuple"
   ]
  },
  {
   "cell_type": "code",
   "execution_count": 45,
   "metadata": {},
   "outputs": [],
   "source": [
    "AFUNCTION = namedtuple('actFn', ['forward', 'withGrad'])\n",
    "\n",
    "sigmoid = lambda x: 1/(1+np.exp(-x))\n",
    "def sigmoid_withgrad(x):\n",
    "    y = sigmoid(x)\n",
    "    drv = y*(1-y)\n",
    "    return y, np.diag(drv.flatten())\n",
    "\n",
    "relu = lambda x: np.maximum(0, x)\n",
    "def relu_withgrad(x):\n",
    "    y = relu(x)\n",
    "    drv = np.where(y <= 0, 0, 1)\n",
    "    return y, np.diag(drv.flatten())\n",
    "\n",
    "identity = lambda x: x\n",
    "def identity_withgrad(x):\n",
    "    drv = np.zeros_like(x)+1\n",
    "    return x, np.diag(drv.flatten())\n",
    "\n",
    "af_sigmoid = AFUNCTION(sigmoid, sigmoid_withgrad)\n",
    "af_relu = AFUNCTION(relu, relu_withgrad)\n",
    "af_identity = AFUNCTION(identity, identity_withgrad)\n"
   ]
  },
  {
   "cell_type": "code",
   "execution_count": 46,
   "metadata": {},
   "outputs": [],
   "source": [
    "from math import sqrt\n",
    "\n",
    "class MLP:\n",
    "    def __init__(self, input_dim) -> None:\n",
    "        self.in_dim = input_dim\n",
    "        self.last_dim = input_dim\n",
    "        self.layers = []\n",
    "\n",
    "    class MLPLayer:\n",
    "        def __init__(self, mat, bias, aFunc):\n",
    "            self.mat = mat\n",
    "            self.bias = bias\n",
    "            self.aFunc = aFunc\n",
    "\n",
    "    def _createLayer(self, dim_in, dim_out, aFunc, init_method='Xavier'):\n",
    "        if 'Xavier' == init_method:\n",
    "            vw = 2/(dim_in+dim_out)\n",
    "        elif 'He' == init_method:\n",
    "            vw = 4/(dim_in+dim_out)\n",
    "        else:\n",
    "            raise KeyError('가중치 초기화')\n",
    "\n",
    "        vw = sqrt(vw) # var -> std\n",
    "        w = np.random.normal(0, vw, (dim_out, dim_in,))\n",
    "\n",
    "        if aFunc == 'sigmoid':\n",
    "            afn = af_sigmoid\n",
    "        elif aFunc == 'relu':\n",
    "            afn = af_relu\n",
    "        elif aFunc == 'identity':\n",
    "            afn = af_identity\n",
    "        else:\n",
    "            raise KeyError('활성화 함수')\n",
    "\n",
    "        return self.MLPLayer(w, np.zeros((dim_out, 1)), afn)\n",
    "    \n",
    "    def add(self, dim, act):\n",
    "        l = self._createLayer(self.last_dim, dim, act)\n",
    "        self.layers.append(l)\n",
    "        self.last_dim = dim\n",
    "    \n",
    "    def forward(self, X):\n",
    "        for layer in self.layers:\n",
    "            _X = np.matmul(layer.mat, X)+layer.bias\n",
    "            X = layer.aFunc.forward(_X)\n",
    "        return X"
   ]
  },
  {
   "cell_type": "code",
   "execution_count": 47,
   "metadata": {},
   "outputs": [],
   "source": [
    "class Optimizer:\n",
    "    def __init__(self, model:MLP, loss):\n",
    "        self.model = model\n",
    "        self.loss = loss\n",
    "        self.ctr = 0.01\n",
    "\n",
    "    def optimize(self, x, y):\n",
    "        grds = []\n",
    "        for layer in self.model.layers:\n",
    "            _X = np.matmul(layer.mat, x)+layer.bias\n",
    "            X, drv = layer.aFunc.withGrad(_X)\n",
    "            grds.append((x, drv))\n",
    "            x = X\n",
    "        grad = self.loss.grad(x, y)\n",
    "        model = self.model\n",
    "        for i in reversed(range(len(grds))):\n",
    "            grad = np.matmul(grad, grds[i][1])\n",
    "            g_mat = grad.T * grds[i][0].T\n",
    "            g_bias = grad.T\n",
    "            grad = np.matmul(grad, model.layers[i].mat)\n",
    "\n",
    "            model.layers[i].mat -= g_mat*self.ctr\n",
    "            model.layers[i].bias -= g_bias*self.ctr\n"
   ]
  },
  {
   "cell_type": "code",
   "execution_count": 48,
   "metadata": {},
   "outputs": [],
   "source": [
    "class SoftmaxCE:\n",
    "    @staticmethod\n",
    "    def softmax(x):\n",
    "        ex = np.exp(x)\n",
    "        sx = ex/np.sum(ex)\n",
    "        return sx\n",
    "\n",
    "    def __call__(self, x, y):\n",
    "        x = self.softmax(x)\n",
    "        ce = -np.sum(y*np.log(x))\n",
    "        return ce\n",
    "\n",
    "    def grad(self, x, y):\n",
    "        return (self.softmax(x)-y).reshape((1, -1))"
   ]
  },
  {
   "cell_type": "code",
   "execution_count": 49,
   "metadata": {},
   "outputs": [],
   "source": [
    "import pandas as pd\n",
    "\n",
    "data = pd.read_csv('iris.csv')\n",
    "\n",
    "X = data[['SepalLengthCm', 'SepalWidthCm', 'PetalLengthCm', 'PetalWidthCm']]\n",
    "Y = pd.get_dummies(data[['Species']], columns=['Species'])"
   ]
  },
  {
   "cell_type": "code",
   "execution_count": 50,
   "metadata": {},
   "outputs": [],
   "source": [
    "train_idx = np.random.choice(X.shape[0], int(X.shape[0]*0.8))\n",
    "X_train = X.iloc[train_idx].to_numpy()\n",
    "Y_train = Y.iloc[train_idx].to_numpy()\n",
    "\n",
    "X_test = X.drop(train_idx).to_numpy()\n",
    "Y_test = Y.drop(train_idx).to_numpy()\n"
   ]
  },
  {
   "cell_type": "code",
   "execution_count": 51,
   "metadata": {},
   "outputs": [],
   "source": [
    "ml = MLP(4)\n",
    "ml.add(5, 'sigmoid')\n",
    "ml.add(3, 'sigmoid')\n",
    "\n",
    "opt = Optimizer(ml, SoftmaxCE())"
   ]
  },
  {
   "cell_type": "code",
   "execution_count": 57,
   "metadata": {},
   "outputs": [],
   "source": [
    "ctrs = [0.1, 0.05]\n",
    "for c in ctrs:\n",
    "    opt.ctr = c\n",
    "    for epc in range(5000):\n",
    "        for x,y in zip(X_train, Y_train):\n",
    "            x = x.reshape((-1,1))\n",
    "            y = y.reshape((-1,1))\n",
    "            opt.optimize(x, y)"
   ]
  },
  {
   "cell_type": "code",
   "execution_count": 59,
   "metadata": {},
   "outputs": [
    {
     "data": {
      "text/plain": [
       "0.92"
      ]
     },
     "execution_count": 59,
     "metadata": {},
     "output_type": "execute_result"
    }
   ],
   "source": [
    "pred = ml.forward(X_test.T)\n",
    "np.mean(pred.argmax(axis=0)==Y_test.argmax(axis=1)).round(2)"
   ]
  }
 ],
 "metadata": {
  "kernelspec": {
   "display_name": "base",
   "language": "python",
   "name": "python3"
  },
  "language_info": {
   "codemirror_mode": {
    "name": "ipython",
    "version": 3
   },
   "file_extension": ".py",
   "mimetype": "text/x-python",
   "name": "python",
   "nbconvert_exporter": "python",
   "pygments_lexer": "ipython3",
   "version": "3.9.13"
  },
  "orig_nbformat": 4
 },
 "nbformat": 4,
 "nbformat_minor": 2
}
