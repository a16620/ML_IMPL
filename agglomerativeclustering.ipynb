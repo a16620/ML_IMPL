{
 "cells": [
  {
   "cell_type": "code",
   "execution_count": 2,
   "metadata": {},
   "outputs": [],
   "source": [
    "import numpy as np\n",
    "import pandas as pd"
   ]
  },
  {
   "cell_type": "code",
   "execution_count": 3,
   "metadata": {},
   "outputs": [],
   "source": [
    "class Dissimilarity:\n",
    "    def __init__(self, x:np.ndarray, distance=2):\n",
    "        x_len = x.shape[0]        \n",
    "        if isinstance(distance, int) or isinstance(distance, float):\n",
    "            self.dmat = np.linalg.norm(x[:,np.newaxis,:]-x, axis=2)\n",
    "        elif callable(distance):\n",
    "            x_len = x.shape[0]\n",
    "            dmat = np.zeros((x_len, x_len))\n",
    "            for i in range(x_len-1):\n",
    "                for j in range(i+1, x_len):\n",
    "                    dmat[i,j] = dmat[j,i] = distance(x[i], x[j])\n",
    "            self.dmat = dmat\n",
    "        else:\n",
    "            raise ValueError('unknown distance:'+str(distance))\n",
    "        \n",
    "    def d(self, g1, g2):\n",
    "        return self.dmat[g1,:][:,g2]\n",
    "    \n",
    "    def d_complete(self, g1, g2): \n",
    "        return self.d(g1, g2).max()\n",
    "    \n",
    "    def d_single(self, g1, g2):\n",
    "        return self.d(g1, g2).min()\n",
    "    \n",
    "    def d_average(self, g1, g2):\n",
    "        return self.d(g1, g2).mean()\n",
    "\n",
    "class AgglomerativeClustering:\n",
    "    def __init__(self, dissim:Dissimilarity, linkage='complete'):\n",
    "        self.distance = dissim\n",
    "        self.linkage = {\n",
    "            'complete':dissim.d_complete,\n",
    "            'single':dissim.d_single,\n",
    "            'average':dissim.d_average\n",
    "        }[linkage]\n",
    "        \n",
    "        self.clusters = [[i] for i in range(dissim.dmat.shape[0])]\n",
    "    def step(self):\n",
    "        nCluster = len(self.clusters)\n",
    "        if nCluster < 2:\n",
    "            return False\n",
    "        t1, t2 = 0, 1\n",
    "        minD = self.linkage(self.clusters[t1], self.clusters[t2])\n",
    "        \n",
    "        for i in range(nCluster):\n",
    "            for j in range(i+1, nCluster):\n",
    "                D = self.linkage(self.clusters[i], self.clusters[j])\n",
    "                if D < minD:\n",
    "                    minD = D\n",
    "                    t1, t2 = i, j\n",
    "        \n",
    "        g2 = self.clusters.pop(t2)\n",
    "        g1 = self.clusters[t1]\n",
    "        g1.extend(g2)\n",
    "        return g1, minD\n",
    "    \n",
    "    def gini(self, label: np.ndarray):\n",
    "        gini = 0\n",
    "        N = label.size\n",
    "        for clt in self.clusters:\n",
    "            label_clt = label[clt]\n",
    "            pp = pd.Series(label_clt).value_counts(normalize=True).to_numpy()\n",
    "            gini += (1-np.sum(pp**2))*label_clt.size/N\n",
    "        return gini"
   ]
  },
  {
   "cell_type": "code",
   "execution_count": 4,
   "metadata": {},
   "outputs": [],
   "source": [
    "from sklearn.datasets import load_iris\n",
    "X,Y = load_iris(return_X_y=True)"
   ]
  },
  {
   "cell_type": "code",
   "execution_count": 6,
   "metadata": {},
   "outputs": [
    {
     "data": {
      "text/plain": [
       "0.32653061224489793"
      ]
     },
     "execution_count": 6,
     "metadata": {},
     "output_type": "execute_result"
    }
   ],
   "source": [
    "agc = AgglomerativeClustering(Dissimilarity(X), linkage='single')\n",
    "while len(agc.clusters) > 3:\n",
    "    agc.step()\n",
    "agc.gini(Y)"
   ]
  }
 ],
 "metadata": {
  "kernelspec": {
   "display_name": "deepl",
   "language": "python",
   "name": "python3"
  },
  "language_info": {
   "codemirror_mode": {
    "name": "ipython",
    "version": 3
   },
   "file_extension": ".py",
   "mimetype": "text/x-python",
   "name": "python",
   "nbconvert_exporter": "python",
   "pygments_lexer": "ipython3",
   "version": "3.8.18"
  }
 },
 "nbformat": 4,
 "nbformat_minor": 2
}
